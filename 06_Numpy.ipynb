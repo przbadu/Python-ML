{
  "nbformat": 4,
  "nbformat_minor": 5,
  "metadata": {
    "kernelspec": {
      "display_name": "Python 3",
      "language": "python",
      "name": "python3"
    },
    "language_info": {
      "codemirror_mode": {
        "name": "ipython",
        "version": 3
      },
      "file_extension": ".py",
      "mimetype": "text/x-python",
      "name": "python",
      "nbconvert_exporter": "python",
      "pygments_lexer": "ipython3",
      "version": "3.8.8"
    },
    "colab": {
      "name": "06-Numpy.ipynb",
      "provenance": [],
      "include_colab_link": true
    }
  },
  "cells": [
    {
      "cell_type": "markdown",
      "metadata": {
        "id": "view-in-github",
        "colab_type": "text"
      },
      "source": [
        "<a href=\"https://colab.research.google.com/github/przbadu/Python-ML/blob/main/06_Numpy.ipynb\" target=\"_parent\"><img src=\"https://colab.research.google.com/assets/colab-badge.svg\" alt=\"Open In Colab\"/></a>"
      ]
    },
    {
      "cell_type": "markdown",
      "metadata": {
        "id": "e03a7d5c"
      },
      "source": [
        "# Numpy\n",
        "\n",
        "NumPy is a general-purpose array-processing package. It provides a high-performance\n",
        "multidimensional array object, and tools for working with these arrays.\n",
        "It is the fundamental package for scientific computing with Python."
      ],
      "id": "e03a7d5c"
    },
    {
      "cell_type": "markdown",
      "metadata": {
        "id": "5ebd498a"
      },
      "source": [
        "## What is an array\n",
        "\n",
        "An array is a data structure that stores values of same data type. In Python,\n",
        "this is the main difference between arrays and lists.\n",
        "While python lists can contain values corresponding to different datatypes,\n",
        "arrays in python can only contain values corresponding to same datatypes."
      ],
      "id": "5ebd498a"
    },
    {
      "cell_type": "code",
      "metadata": {
        "id": "de442668"
      },
      "source": [
        "import numpy as np"
      ],
      "id": "de442668",
      "execution_count": 1,
      "outputs": []
    },
    {
      "cell_type": "code",
      "metadata": {
        "id": "1f04f427"
      },
      "source": [
        "a = [1, 2, 3, 4, 5]\n",
        "\n",
        "b = np.array(a)"
      ],
      "id": "1f04f427",
      "execution_count": 2,
      "outputs": []
    },
    {
      "cell_type": "code",
      "metadata": {
        "id": "bad27b0a",
        "outputId": "fee224bc-e2ed-4cd7-bd43-5683c8e1822f",
        "colab": {
          "base_uri": "https://localhost:8080/"
        }
      },
      "source": [
        "type(a)"
      ],
      "id": "bad27b0a",
      "execution_count": 3,
      "outputs": [
        {
          "output_type": "execute_result",
          "data": {
            "text/plain": [
              "list"
            ]
          },
          "metadata": {
            "tags": []
          },
          "execution_count": 3
        }
      ]
    },
    {
      "cell_type": "code",
      "metadata": {
        "id": "c4081725",
        "outputId": "68bd26f3-6f80-41ba-a040-023376cb370a",
        "colab": {
          "base_uri": "https://localhost:8080/"
        }
      },
      "source": [
        "type(b)"
      ],
      "id": "c4081725",
      "execution_count": 4,
      "outputs": [
        {
          "output_type": "execute_result",
          "data": {
            "text/plain": [
              "numpy.ndarray"
            ]
          },
          "metadata": {
            "tags": []
          },
          "execution_count": 4
        }
      ]
    },
    {
      "cell_type": "code",
      "metadata": {
        "id": "0251ffc0",
        "outputId": "9f0d40e0-7c39-47af-d50c-f231b75fbd1f",
        "colab": {
          "base_uri": "https://localhost:8080/"
        }
      },
      "source": [
        "a"
      ],
      "id": "0251ffc0",
      "execution_count": 5,
      "outputs": [
        {
          "output_type": "execute_result",
          "data": {
            "text/plain": [
              "[1, 2, 3, 4, 5]"
            ]
          },
          "metadata": {
            "tags": []
          },
          "execution_count": 5
        }
      ]
    },
    {
      "cell_type": "code",
      "metadata": {
        "id": "b4db4636",
        "outputId": "60f1ab68-7e97-4f2e-cd1f-462769bbb979",
        "colab": {
          "base_uri": "https://localhost:8080/"
        }
      },
      "source": [
        "b"
      ],
      "id": "b4db4636",
      "execution_count": 6,
      "outputs": [
        {
          "output_type": "execute_result",
          "data": {
            "text/plain": [
              "array([1, 2, 3, 4, 5])"
            ]
          },
          "metadata": {
            "tags": []
          },
          "execution_count": 6
        }
      ]
    },
    {
      "cell_type": "code",
      "metadata": {
        "id": "ee7abb9d",
        "outputId": "3c8b4ca9-3777-407c-8f30-dce3d298923f",
        "colab": {
          "base_uri": "https://localhost:8080/"
        }
      },
      "source": [
        "b.shape"
      ],
      "id": "ee7abb9d",
      "execution_count": 7,
      "outputs": [
        {
          "output_type": "execute_result",
          "data": {
            "text/plain": [
              "(5,)"
            ]
          },
          "metadata": {
            "tags": []
          },
          "execution_count": 7
        }
      ]
    },
    {
      "cell_type": "code",
      "metadata": {
        "id": "ae6d42f1"
      },
      "source": [
        "c = [[1,2], [3,4]]\n",
        "d = np.array(c)"
      ],
      "id": "ae6d42f1",
      "execution_count": 8,
      "outputs": []
    },
    {
      "cell_type": "code",
      "metadata": {
        "id": "91885430",
        "outputId": "a76623e7-c458-4b14-e6e2-d77087d17202",
        "colab": {
          "base_uri": "https://localhost:8080/"
        }
      },
      "source": [
        "d"
      ],
      "id": "91885430",
      "execution_count": 9,
      "outputs": [
        {
          "output_type": "execute_result",
          "data": {
            "text/plain": [
              "array([[1, 2],\n",
              "       [3, 4]])"
            ]
          },
          "metadata": {
            "tags": []
          },
          "execution_count": 9
        }
      ]
    },
    {
      "cell_type": "code",
      "metadata": {
        "id": "9419ced8",
        "outputId": "fd1d6b13-8477-4f6c-b098-575f2c468aa3",
        "colab": {
          "base_uri": "https://localhost:8080/"
        }
      },
      "source": [
        "d.shape"
      ],
      "id": "9419ced8",
      "execution_count": 10,
      "outputs": [
        {
          "output_type": "execute_result",
          "data": {
            "text/plain": [
              "(2, 2)"
            ]
          },
          "metadata": {
            "tags": []
          },
          "execution_count": 10
        }
      ]
    },
    {
      "cell_type": "code",
      "metadata": {
        "id": "176b5e9a"
      },
      "source": [
        "lst1 = [1,2,3,4]\n",
        "lst2 = [2,3,4,5]\n",
        "lst3 = [4,5,6,7]\n",
        "\n",
        "arr = np.array([lst1, lst2, lst3])"
      ],
      "id": "176b5e9a",
      "execution_count": 11,
      "outputs": []
    },
    {
      "cell_type": "code",
      "metadata": {
        "id": "267979e4",
        "outputId": "ebc651ad-a27d-4c80-f7a1-6c2ca5a39b64",
        "colab": {
          "base_uri": "https://localhost:8080/"
        }
      },
      "source": [
        "arr"
      ],
      "id": "267979e4",
      "execution_count": 12,
      "outputs": [
        {
          "output_type": "execute_result",
          "data": {
            "text/plain": [
              "array([[1, 2, 3, 4],\n",
              "       [2, 3, 4, 5],\n",
              "       [4, 5, 6, 7]])"
            ]
          },
          "metadata": {
            "tags": []
          },
          "execution_count": 12
        }
      ]
    },
    {
      "cell_type": "code",
      "metadata": {
        "id": "217d69f1",
        "outputId": "666eb03d-b2ba-48bd-c335-4896c38f216a",
        "colab": {
          "base_uri": "https://localhost:8080/"
        }
      },
      "source": [
        "arr.shape"
      ],
      "id": "217d69f1",
      "execution_count": 13,
      "outputs": [
        {
          "output_type": "execute_result",
          "data": {
            "text/plain": [
              "(3, 4)"
            ]
          },
          "metadata": {
            "tags": []
          },
          "execution_count": 13
        }
      ]
    },
    {
      "cell_type": "code",
      "metadata": {
        "id": "5ad6cf86",
        "outputId": "fba75664-7c1c-4f5a-fcf8-20b19b55951c",
        "colab": {
          "base_uri": "https://localhost:8080/"
        }
      },
      "source": [
        "arr.reshape(4,3) # no. of elements should be same e.g: 4*3 = 12"
      ],
      "id": "5ad6cf86",
      "execution_count": 14,
      "outputs": [
        {
          "output_type": "execute_result",
          "data": {
            "text/plain": [
              "array([[1, 2, 3],\n",
              "       [4, 2, 3],\n",
              "       [4, 5, 4],\n",
              "       [5, 6, 7]])"
            ]
          },
          "metadata": {
            "tags": []
          },
          "execution_count": 14
        }
      ]
    },
    {
      "cell_type": "code",
      "metadata": {
        "id": "ef0dfdd8",
        "outputId": "a2b2f65d-96ec-4acc-fb37-cb346d55b5e0",
        "colab": {
          "base_uri": "https://localhost:8080/"
        }
      },
      "source": [
        "arr"
      ],
      "id": "ef0dfdd8",
      "execution_count": 15,
      "outputs": [
        {
          "output_type": "execute_result",
          "data": {
            "text/plain": [
              "array([[1, 2, 3, 4],\n",
              "       [2, 3, 4, 5],\n",
              "       [4, 5, 6, 7]])"
            ]
          },
          "metadata": {
            "tags": []
          },
          "execution_count": 15
        }
      ]
    },
    {
      "cell_type": "code",
      "metadata": {
        "id": "2a20757f",
        "outputId": "51936259-7a00-425d-fa35-e0b4efab9734",
        "colab": {
          "base_uri": "https://localhost:8080/"
        }
      },
      "source": [
        "arr.reshape(6, 2)"
      ],
      "id": "2a20757f",
      "execution_count": 16,
      "outputs": [
        {
          "output_type": "execute_result",
          "data": {
            "text/plain": [
              "array([[1, 2],\n",
              "       [3, 4],\n",
              "       [2, 3],\n",
              "       [4, 5],\n",
              "       [4, 5],\n",
              "       [6, 7]])"
            ]
          },
          "metadata": {
            "tags": []
          },
          "execution_count": 16
        }
      ]
    },
    {
      "cell_type": "code",
      "metadata": {
        "id": "67e08a6d",
        "outputId": "e0b9cee5-e26b-417a-e8ce-1fe4ca141708",
        "colab": {
          "base_uri": "https://localhost:8080/"
        }
      },
      "source": [
        "arr.reshape(2,6)"
      ],
      "id": "67e08a6d",
      "execution_count": 17,
      "outputs": [
        {
          "output_type": "execute_result",
          "data": {
            "text/plain": [
              "array([[1, 2, 3, 4, 2, 3],\n",
              "       [4, 5, 4, 5, 6, 7]])"
            ]
          },
          "metadata": {
            "tags": []
          },
          "execution_count": 17
        }
      ]
    },
    {
      "cell_type": "markdown",
      "metadata": {
        "id": "aa19bee5"
      },
      "source": [
        "## Indexing"
      ],
      "id": "aa19bee5"
    },
    {
      "cell_type": "markdown",
      "metadata": {
        "id": "18dde586"
      },
      "source": [
        "### Accessing the array element"
      ],
      "id": "18dde586"
    },
    {
      "cell_type": "code",
      "metadata": {
        "id": "c2ceadb0"
      },
      "source": [
        "arr = np.array([1,2,3,4,5,6,7,8,9,0])"
      ],
      "id": "c2ceadb0",
      "execution_count": 18,
      "outputs": []
    },
    {
      "cell_type": "code",
      "metadata": {
        "id": "cbb310fc",
        "outputId": "ad52ddf9-8bae-4233-8782-773a6faf074f",
        "colab": {
          "base_uri": "https://localhost:8080/"
        }
      },
      "source": [
        "arr[3]"
      ],
      "id": "cbb310fc",
      "execution_count": 19,
      "outputs": [
        {
          "output_type": "execute_result",
          "data": {
            "text/plain": [
              "4"
            ]
          },
          "metadata": {
            "tags": []
          },
          "execution_count": 19
        }
      ]
    },
    {
      "cell_type": "code",
      "metadata": {
        "id": "60382b7c"
      },
      "source": [
        "lst1 = [1,2,3,4]\n",
        "lst2 = [2,3,4,5]\n",
        "lst3 = [4,5,6,7]\n",
        "\n",
        "arr = np.array([lst1, lst2, lst3])"
      ],
      "id": "60382b7c",
      "execution_count": 20,
      "outputs": []
    },
    {
      "cell_type": "code",
      "metadata": {
        "id": "513c228f",
        "outputId": "f3d4f00e-1798-4efa-e91f-31fe5ba76d39",
        "colab": {
          "base_uri": "https://localhost:8080/"
        }
      },
      "source": [
        "arr[:,:] # all the row and cols"
      ],
      "id": "513c228f",
      "execution_count": 21,
      "outputs": [
        {
          "output_type": "execute_result",
          "data": {
            "text/plain": [
              "array([[1, 2, 3, 4],\n",
              "       [2, 3, 4, 5],\n",
              "       [4, 5, 6, 7]])"
            ]
          },
          "metadata": {
            "tags": []
          },
          "execution_count": 21
        }
      ]
    },
    {
      "cell_type": "code",
      "metadata": {
        "id": "23046d63",
        "outputId": "80eacd95-e949-4023-bd01-e5e93cdebcfc",
        "colab": {
          "base_uri": "https://localhost:8080/"
        }
      },
      "source": [
        "arr[:,3:] # all the rows, but cols after 3rd index"
      ],
      "id": "23046d63",
      "execution_count": 22,
      "outputs": [
        {
          "output_type": "execute_result",
          "data": {
            "text/plain": [
              "array([[4],\n",
              "       [5],\n",
              "       [7]])"
            ]
          },
          "metadata": {
            "tags": []
          },
          "execution_count": 22
        }
      ]
    },
    {
      "cell_type": "code",
      "metadata": {
        "id": "95aa1e1f",
        "outputId": "c276b231-6bca-4975-d68c-d4785edcc3d0",
        "colab": {
          "base_uri": "https://localhost:8080/"
        }
      },
      "source": [
        " arr[0:2,0:2] # first 2 row, and first 2 cols"
      ],
      "id": "95aa1e1f",
      "execution_count": 23,
      "outputs": [
        {
          "output_type": "execute_result",
          "data": {
            "text/plain": [
              "array([[1, 2],\n",
              "       [2, 3]])"
            ]
          },
          "metadata": {
            "tags": []
          },
          "execution_count": 23
        }
      ]
    },
    {
      "cell_type": "code",
      "metadata": {
        "id": "cb925e0c",
        "outputId": "2864e1d9-f805-4d36-c69f-3ad4f430c0ad",
        "colab": {
          "base_uri": "https://localhost:8080/"
        }
      },
      "source": [
        "arr[1:,3:] # row from 1st index, cols after 3rd index"
      ],
      "id": "cb925e0c",
      "execution_count": 24,
      "outputs": [
        {
          "output_type": "execute_result",
          "data": {
            "text/plain": [
              "array([[5],\n",
              "       [7]])"
            ]
          },
          "metadata": {
            "tags": []
          },
          "execution_count": 24
        }
      ]
    },
    {
      "cell_type": "code",
      "metadata": {
        "id": "84a3ba66"
      },
      "source": [
        "arr = np.arange(0, 10, step=2)"
      ],
      "id": "84a3ba66",
      "execution_count": 25,
      "outputs": []
    },
    {
      "cell_type": "code",
      "metadata": {
        "id": "7455f0e5",
        "outputId": "6ef06d11-688c-4689-e7ae-1937af23053a",
        "colab": {
          "base_uri": "https://localhost:8080/"
        }
      },
      "source": [
        "arr"
      ],
      "id": "7455f0e5",
      "execution_count": 26,
      "outputs": [
        {
          "output_type": "execute_result",
          "data": {
            "text/plain": [
              "array([0, 2, 4, 6, 8])"
            ]
          },
          "metadata": {
            "tags": []
          },
          "execution_count": 26
        }
      ]
    },
    {
      "cell_type": "code",
      "metadata": {
        "id": "b5538bd6",
        "outputId": "e00ff787-978c-456e-8835-ecb7bfd991c1",
        "colab": {
          "base_uri": "https://localhost:8080/"
        }
      },
      "source": [
        "np.linspace(1, 10, 50)"
      ],
      "id": "b5538bd6",
      "execution_count": 27,
      "outputs": [
        {
          "output_type": "execute_result",
          "data": {
            "text/plain": [
              "array([ 1.        ,  1.18367347,  1.36734694,  1.55102041,  1.73469388,\n",
              "        1.91836735,  2.10204082,  2.28571429,  2.46938776,  2.65306122,\n",
              "        2.83673469,  3.02040816,  3.20408163,  3.3877551 ,  3.57142857,\n",
              "        3.75510204,  3.93877551,  4.12244898,  4.30612245,  4.48979592,\n",
              "        4.67346939,  4.85714286,  5.04081633,  5.2244898 ,  5.40816327,\n",
              "        5.59183673,  5.7755102 ,  5.95918367,  6.14285714,  6.32653061,\n",
              "        6.51020408,  6.69387755,  6.87755102,  7.06122449,  7.24489796,\n",
              "        7.42857143,  7.6122449 ,  7.79591837,  7.97959184,  8.16326531,\n",
              "        8.34693878,  8.53061224,  8.71428571,  8.89795918,  9.08163265,\n",
              "        9.26530612,  9.44897959,  9.63265306,  9.81632653, 10.        ])"
            ]
          },
          "metadata": {
            "tags": []
          },
          "execution_count": 27
        }
      ]
    },
    {
      "cell_type": "code",
      "metadata": {
        "id": "b4ede86e"
      },
      "source": [
        "# copy() function and broadcasting\n",
        "\n",
        "arr1 = arr"
      ],
      "id": "b4ede86e",
      "execution_count": 28,
      "outputs": []
    },
    {
      "cell_type": "code",
      "metadata": {
        "id": "f01b9367"
      },
      "source": [
        "arr1[3:] = 200"
      ],
      "id": "f01b9367",
      "execution_count": 29,
      "outputs": []
    },
    {
      "cell_type": "code",
      "metadata": {
        "id": "9d0ad624",
        "outputId": "dc32e509-55cc-40b0-ea9c-953a42406a6f",
        "colab": {
          "base_uri": "https://localhost:8080/"
        }
      },
      "source": [
        "arr1"
      ],
      "id": "9d0ad624",
      "execution_count": 30,
      "outputs": [
        {
          "output_type": "execute_result",
          "data": {
            "text/plain": [
              "array([  0,   2,   4, 200, 200])"
            ]
          },
          "metadata": {
            "tags": []
          },
          "execution_count": 30
        }
      ]
    },
    {
      "cell_type": "code",
      "metadata": {
        "id": "29d4761d",
        "outputId": "2a49ecb2-af20-48b3-df14-b1674874cb1b",
        "colab": {
          "base_uri": "https://localhost:8080/"
        }
      },
      "source": [
        "arr"
      ],
      "id": "29d4761d",
      "execution_count": 31,
      "outputs": [
        {
          "output_type": "execute_result",
          "data": {
            "text/plain": [
              "array([  0,   2,   4, 200, 200])"
            ]
          },
          "metadata": {
            "tags": []
          },
          "execution_count": 31
        }
      ]
    },
    {
      "cell_type": "code",
      "metadata": {
        "id": "24fbf57e"
      },
      "source": [
        "arr1 = arr.copy()"
      ],
      "id": "24fbf57e",
      "execution_count": 32,
      "outputs": []
    },
    {
      "cell_type": "code",
      "metadata": {
        "id": "7c08a955",
        "outputId": "70614575-76bc-40c7-f63d-f373de729dca",
        "colab": {
          "base_uri": "https://localhost:8080/"
        }
      },
      "source": [
        "print(arr)\n",
        "arr1[3:] = 5"
      ],
      "id": "7c08a955",
      "execution_count": 33,
      "outputs": [
        {
          "output_type": "stream",
          "text": [
            "[  0   2   4 200 200]\n"
          ],
          "name": "stdout"
        }
      ]
    },
    {
      "cell_type": "code",
      "metadata": {
        "id": "0872e11b",
        "outputId": "3e228f55-7f54-4801-8125-c30f8b98f8ee",
        "colab": {
          "base_uri": "https://localhost:8080/"
        }
      },
      "source": [
        "arr1"
      ],
      "id": "0872e11b",
      "execution_count": 34,
      "outputs": [
        {
          "output_type": "execute_result",
          "data": {
            "text/plain": [
              "array([0, 2, 4, 5, 5])"
            ]
          },
          "metadata": {
            "tags": []
          },
          "execution_count": 34
        }
      ]
    },
    {
      "cell_type": "code",
      "metadata": {
        "id": "38e615b9",
        "outputId": "7e7af22f-732c-4de6-d389-6d477b32d6b6",
        "colab": {
          "base_uri": "https://localhost:8080/"
        }
      },
      "source": [
        "arr"
      ],
      "id": "38e615b9",
      "execution_count": 35,
      "outputs": [
        {
          "output_type": "execute_result",
          "data": {
            "text/plain": [
              "array([  0,   2,   4, 200, 200])"
            ]
          },
          "metadata": {
            "tags": []
          },
          "execution_count": 35
        }
      ]
    },
    {
      "cell_type": "code",
      "metadata": {
        "id": "d4cf3213"
      },
      "source": [
        "val = 2"
      ],
      "id": "d4cf3213",
      "execution_count": 36,
      "outputs": []
    },
    {
      "cell_type": "code",
      "metadata": {
        "id": "888d2a06",
        "outputId": "8ac0d0be-f9c2-4268-9c80-b9d700c2ab15",
        "colab": {
          "base_uri": "https://localhost:8080/"
        }
      },
      "source": [
        "arr < 2"
      ],
      "id": "888d2a06",
      "execution_count": 37,
      "outputs": [
        {
          "output_type": "execute_result",
          "data": {
            "text/plain": [
              "array([ True, False, False, False, False])"
            ]
          },
          "metadata": {
            "tags": []
          },
          "execution_count": 37
        }
      ]
    },
    {
      "cell_type": "code",
      "metadata": {
        "id": "ae2bc878",
        "outputId": "180c80b0-d7f0-419d-8c58-8863ccb9d935",
        "colab": {
          "base_uri": "https://localhost:8080/"
        }
      },
      "source": [
        "print(arr[arr<50])"
      ],
      "id": "ae2bc878",
      "execution_count": 38,
      "outputs": [
        {
          "output_type": "stream",
          "text": [
            "[0 2 4]\n"
          ],
          "name": "stdout"
        }
      ]
    },
    {
      "cell_type": "code",
      "metadata": {
        "id": "b62835f2",
        "outputId": "1413b212-3715-472f-b5ed-8c26455ea35e",
        "colab": {
          "base_uri": "https://localhost:8080/"
        }
      },
      "source": [
        "np.ones(4)"
      ],
      "id": "b62835f2",
      "execution_count": 39,
      "outputs": [
        {
          "output_type": "execute_result",
          "data": {
            "text/plain": [
              "array([1., 1., 1., 1.])"
            ]
          },
          "metadata": {
            "tags": []
          },
          "execution_count": 39
        }
      ]
    },
    {
      "cell_type": "code",
      "metadata": {
        "id": "8043c275",
        "outputId": "4a09c3a9-15c3-4b41-dc6c-75f44005dfaa",
        "colab": {
          "base_uri": "https://localhost:8080/"
        }
      },
      "source": [
        "np.ones((2,5), dtype=int)"
      ],
      "id": "8043c275",
      "execution_count": 40,
      "outputs": [
        {
          "output_type": "execute_result",
          "data": {
            "text/plain": [
              "array([[1, 1, 1, 1, 1],\n",
              "       [1, 1, 1, 1, 1]])"
            ]
          },
          "metadata": {
            "tags": []
          },
          "execution_count": 40
        }
      ]
    },
    {
      "cell_type": "code",
      "metadata": {
        "id": "2b726a87",
        "outputId": "aace3d96-7de8-4c8d-e539-0fd629d9fc4b",
        "colab": {
          "base_uri": "https://localhost:8080/"
        }
      },
      "source": [
        "np.ones((2,5))"
      ],
      "id": "2b726a87",
      "execution_count": 41,
      "outputs": [
        {
          "output_type": "execute_result",
          "data": {
            "text/plain": [
              "array([[1., 1., 1., 1., 1.],\n",
              "       [1., 1., 1., 1., 1.]])"
            ]
          },
          "metadata": {
            "tags": []
          },
          "execution_count": 41
        }
      ]
    },
    {
      "cell_type": "code",
      "metadata": {
        "id": "4c1337e9",
        "outputId": "f4b9607e-cb3a-4adc-e582-ea1ca4fdb67d",
        "colab": {
          "base_uri": "https://localhost:8080/"
        }
      },
      "source": [
        "np.random.rand(3,3)"
      ],
      "id": "4c1337e9",
      "execution_count": 42,
      "outputs": [
        {
          "output_type": "execute_result",
          "data": {
            "text/plain": [
              "array([[0.843838  , 0.5891841 , 0.9862355 ],\n",
              "       [0.23786105, 0.18630291, 0.9365845 ],\n",
              "       [0.11667841, 0.23399888, 0.62101923]])"
            ]
          },
          "metadata": {
            "tags": []
          },
          "execution_count": 42
        }
      ]
    },
    {
      "cell_type": "code",
      "metadata": {
        "id": "c543d0a9"
      },
      "source": [
        "arr_ex = np.random.randn(4,4)"
      ],
      "id": "c543d0a9",
      "execution_count": 43,
      "outputs": []
    },
    {
      "cell_type": "code",
      "metadata": {
        "id": "0c6d8cf0",
        "outputId": "baed0be8-2946-4325-d910-daeee8d1d447",
        "colab": {
          "base_uri": "https://localhost:8080/"
        }
      },
      "source": [
        "arr_ex"
      ],
      "id": "0c6d8cf0",
      "execution_count": 44,
      "outputs": [
        {
          "output_type": "execute_result",
          "data": {
            "text/plain": [
              "array([[ 0.06917367, -2.93313582, -0.72942187, -0.93563605],\n",
              "       [-0.13373996, -0.47793009, -2.66054671, -0.55378187],\n",
              "       [ 0.81546023,  1.30450992,  0.23620416, -0.43515177],\n",
              "       [ 0.34312276, -0.70778852, -0.80912902,  0.58586113]])"
            ]
          },
          "metadata": {
            "tags": []
          },
          "execution_count": 44
        }
      ]
    },
    {
      "cell_type": "code",
      "metadata": {
        "id": "659d9967"
      },
      "source": [
        "import seaborn as sns\n",
        "import pandas as pd"
      ],
      "id": "659d9967",
      "execution_count": 45,
      "outputs": []
    },
    {
      "cell_type": "code",
      "metadata": {
        "id": "9360273b",
        "outputId": "fe8e3c7a-e09e-4195-a841-193487e11fcd",
        "colab": {
          "base_uri": "https://localhost:8080/",
          "height": 0
        }
      },
      "source": [
        "sns.histplot(pd.DataFrame(arr_ex.reshape(16,1)))"
      ],
      "id": "9360273b",
      "execution_count": 46,
      "outputs": [
        {
          "output_type": "execute_result",
          "data": {
            "text/plain": [
              "<matplotlib.axes._subplots.AxesSubplot at 0x7fd73c9936d0>"
            ]
          },
          "metadata": {
            "tags": []
          },
          "execution_count": 46
        },
        {
          "output_type": "display_data",
          "data": {
            "image/png": "[encoded data removed]",
            "text/plain": [
              "<Figure size 432x288 with 1 Axes>"
            ]
          },
          "metadata": {
            "tags": [],
            "needs_background": "light"
          }
        }
      ]
    },
    {
      "cell_type": "code",
      "metadata": {
        "id": "b3a922c4",
        "outputId": "0d9b37e1-434e-4dab-f05f-3bc1115f9a42",
        "colab": {
          "base_uri": "https://localhost:8080/"
        }
      },
      "source": [
        "np.random.randint(0, 100, 8)"
      ],
      "id": "b3a922c4",
      "execution_count": 47,
      "outputs": [
        {
          "output_type": "execute_result",
          "data": {
            "text/plain": [
              "array([51,  4, 69, 39, 33, 88, 83,  7])"
            ]
          },
          "metadata": {
            "tags": []
          },
          "execution_count": 47
        }
      ]
    },
    {
      "cell_type": "code",
      "metadata": {
        "id": "15d25c1a",
        "outputId": "80891a65-3615-4923-edb4-cb28d023c71a",
        "colab": {
          "base_uri": "https://localhost:8080/"
        }
      },
      "source": [
        "np.random.random_sample((1, 5))"
      ],
      "id": "15d25c1a",
      "execution_count": 48,
      "outputs": [
        {
          "output_type": "execute_result",
          "data": {
            "text/plain": [
              "array([[0.48931874, 0.00316323, 0.97537922, 0.69423129, 0.17887022]])"
            ]
          },
          "metadata": {
            "tags": []
          },
          "execution_count": 48
        }
      ]
    },
    {
      "cell_type": "code",
      "metadata": {
        "id": "71eeb3c5"
      },
      "source": [
        ""
      ],
      "id": "71eeb3c5",
      "execution_count": 48,
      "outputs": []
    }
  ]
}