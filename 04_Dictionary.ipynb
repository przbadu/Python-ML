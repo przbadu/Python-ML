{
  "nbformat": 4,
  "nbformat_minor": 5,
  "metadata": {
    "kernelspec": {
      "display_name": "Python 3",
      "language": "python",
      "name": "python3"
    },
    "language_info": {
      "codemirror_mode": {
        "name": "ipython",
        "version": 3
      },
      "file_extension": ".py",
      "mimetype": "text/x-python",
      "name": "python",
      "nbconvert_exporter": "python",
      "pygments_lexer": "ipython3",
      "version": "3.8.8"
    },
    "colab": {
      "name": "04-Dictionary.ipynb",
      "provenance": [],
      "include_colab_link": true
    }
  },
  "cells": [
    {
      "cell_type": "markdown",
      "metadata": {
        "id": "view-in-github",
        "colab_type": "text"
      },
      "source": [
        "<a href=\"https://colab.research.google.com/github/przbadu/Python-ML/blob/main/04_Dictionary.ipynb\" target=\"_parent\"><img src=\"https://colab.research.google.com/assets/colab-badge.svg\" alt=\"Open In Colab\"/></a>"
      ]
    },
    {
      "cell_type": "markdown",
      "metadata": {
        "id": "8d316f75"
      },
      "source": [
        "# Dictionary\n",
        "\n",
        "A `Dictionary` is a collection which is unordered, changable and indexed.\n",
        "In Python dictionaries are written with curly brackets, and they have keys and values"
      ],
      "id": "8d316f75"
    },
    {
      "cell_type": "code",
      "metadata": {
        "id": "77715ece"
      },
      "source": [
        "dic = {}"
      ],
      "id": "77715ece",
      "execution_count": 1,
      "outputs": []
    },
    {
      "cell_type": "code",
      "metadata": {
        "colab": {
          "base_uri": "https://localhost:8080/"
        },
        "id": "7bf3612f",
        "outputId": "bbd7e91d-dc16-4ae8-a03e-4d6685c4ed17"
      },
      "source": [
        "dic"
      ],
      "id": "7bf3612f",
      "execution_count": 2,
      "outputs": [
        {
          "output_type": "execute_result",
          "data": {
            "text/plain": [
              "{}"
            ]
          },
          "metadata": {
            "tags": []
          },
          "execution_count": 2
        }
      ]
    },
    {
      "cell_type": "code",
      "metadata": {
        "colab": {
          "base_uri": "https://localhost:8080/"
        },
        "id": "ec9180dc",
        "outputId": "e8d390a9-a9b9-425e-e30e-bd754a93aac6"
      },
      "source": [
        "type(dic)"
      ],
      "id": "ec9180dc",
      "execution_count": 3,
      "outputs": [
        {
          "output_type": "execute_result",
          "data": {
            "text/plain": [
              "dict"
            ]
          },
          "metadata": {
            "tags": []
          },
          "execution_count": 3
        }
      ]
    },
    {
      "cell_type": "code",
      "metadata": {
        "id": "d48d86eb"
      },
      "source": [
        "a = {'name': 'John', 'age': 25, 'gender': 'male'}"
      ],
      "id": "d48d86eb",
      "execution_count": 4,
      "outputs": []
    },
    {
      "cell_type": "code",
      "metadata": {
        "colab": {
          "base_uri": "https://localhost:8080/"
        },
        "id": "4a5f3afd",
        "outputId": "0a24340e-3c8d-43a5-c08e-c79572b981a3"
      },
      "source": [
        "a"
      ],
      "id": "4a5f3afd",
      "execution_count": 5,
      "outputs": [
        {
          "output_type": "execute_result",
          "data": {
            "text/plain": [
              "{'age': 25, 'gender': 'male', 'name': 'John'}"
            ]
          },
          "metadata": {
            "tags": []
          },
          "execution_count": 5
        }
      ]
    },
    {
      "cell_type": "code",
      "metadata": {
        "colab": {
          "base_uri": "https://localhost:8080/",
          "height": 35
        },
        "id": "f61a6a78",
        "outputId": "064db1bc-6b49-4fd8-e126-c52f5fe0bb58"
      },
      "source": [
        "a['name']"
      ],
      "id": "f61a6a78",
      "execution_count": 6,
      "outputs": [
        {
          "output_type": "execute_result",
          "data": {
            "application/vnd.google.colaboratory.intrinsic+json": {
              "type": "string"
            },
            "text/plain": [
              "'John'"
            ]
          },
          "metadata": {
            "tags": []
          },
          "execution_count": 6
        }
      ]
    },
    {
      "cell_type": "code",
      "metadata": {
        "colab": {
          "base_uri": "https://localhost:8080/"
        },
        "id": "bea72705",
        "outputId": "4038ae5d-c917-436a-a258-b5a68d5e5050"
      },
      "source": [
        "a.items()"
      ],
      "id": "bea72705",
      "execution_count": 7,
      "outputs": [
        {
          "output_type": "execute_result",
          "data": {
            "text/plain": [
              "dict_items([('name', 'John'), ('age', 25), ('gender', 'male')])"
            ]
          },
          "metadata": {
            "tags": []
          },
          "execution_count": 7
        }
      ]
    },
    {
      "cell_type": "code",
      "metadata": {
        "colab": {
          "base_uri": "https://localhost:8080/"
        },
        "id": "f3171e98",
        "outputId": "76012235-611e-4336-d9e6-dc7aced8c343"
      },
      "source": [
        "a.keys()"
      ],
      "id": "f3171e98",
      "execution_count": 8,
      "outputs": [
        {
          "output_type": "execute_result",
          "data": {
            "text/plain": [
              "dict_keys(['name', 'age', 'gender'])"
            ]
          },
          "metadata": {
            "tags": []
          },
          "execution_count": 8
        }
      ]
    },
    {
      "cell_type": "code",
      "metadata": {
        "colab": {
          "base_uri": "https://localhost:8080/"
        },
        "id": "42b2ee84",
        "outputId": "157a0e35-bed0-4a12-f668-b48b8fdda4fd"
      },
      "source": [
        "a.values()"
      ],
      "id": "42b2ee84",
      "execution_count": 9,
      "outputs": [
        {
          "output_type": "execute_result",
          "data": {
            "text/plain": [
              "dict_values(['John', 25, 'male'])"
            ]
          },
          "metadata": {
            "tags": []
          },
          "execution_count": 9
        }
      ]
    },
    {
      "cell_type": "code",
      "metadata": {
        "colab": {
          "base_uri": "https://localhost:8080/"
        },
        "id": "18e7cab5",
        "outputId": "1a55d655-aefc-41e9-f9a3-bed182c7ec75"
      },
      "source": [
        "for x in a:\n",
        "    print(x)"
      ],
      "id": "18e7cab5",
      "execution_count": 10,
      "outputs": [
        {
          "output_type": "stream",
          "text": [
            "name\n",
            "age\n",
            "gender\n"
          ],
          "name": "stdout"
        }
      ]
    },
    {
      "cell_type": "code",
      "metadata": {
        "colab": {
          "base_uri": "https://localhost:8080/"
        },
        "id": "6718ae95",
        "outputId": "f1e6fdd5-f437-4745-810a-0eab41da18b2"
      },
      "source": [
        "for x in a.values():\n",
        "    print(x)"
      ],
      "id": "6718ae95",
      "execution_count": 11,
      "outputs": [
        {
          "output_type": "stream",
          "text": [
            "John\n",
            "25\n",
            "male\n"
          ],
          "name": "stdout"
        }
      ]
    },
    {
      "cell_type": "code",
      "metadata": {
        "colab": {
          "base_uri": "https://localhost:8080/"
        },
        "id": "a3c44725",
        "outputId": "704a95da-5ced-4985-cd5d-7e24faa4549d"
      },
      "source": [
        "for x in a.items():\n",
        "    print(x)"
      ],
      "id": "a3c44725",
      "execution_count": 12,
      "outputs": [
        {
          "output_type": "stream",
          "text": [
            "('name', 'John')\n",
            "('age', 25)\n",
            "('gender', 'male')\n"
          ],
          "name": "stdout"
        }
      ]
    },
    {
      "cell_type": "code",
      "metadata": {
        "id": "4c95f23f"
      },
      "source": [
        "a['city'] = 'ABC Street'"
      ],
      "id": "4c95f23f",
      "execution_count": 13,
      "outputs": []
    },
    {
      "cell_type": "code",
      "metadata": {
        "colab": {
          "base_uri": "https://localhost:8080/"
        },
        "id": "2226146e",
        "outputId": "3764be31-b8f7-4298-d2b0-a0356f150b2c"
      },
      "source": [
        "a"
      ],
      "id": "2226146e",
      "execution_count": 14,
      "outputs": [
        {
          "output_type": "execute_result",
          "data": {
            "text/plain": [
              "{'age': 25, 'city': 'ABC Street', 'gender': 'male', 'name': 'John'}"
            ]
          },
          "metadata": {
            "tags": []
          },
          "execution_count": 14
        }
      ]
    },
    {
      "cell_type": "code",
      "metadata": {
        "id": "317b7214"
      },
      "source": [
        "a['city'] = {'line1': 'ABC Street.', 'country': 'NP', 'currency': 'NP'}"
      ],
      "id": "317b7214",
      "execution_count": 15,
      "outputs": []
    },
    {
      "cell_type": "code",
      "metadata": {
        "colab": {
          "base_uri": "https://localhost:8080/"
        },
        "id": "bf14be48",
        "outputId": "8e764761-bb4c-48ca-9f3d-28a2352e0127"
      },
      "source": [
        "a"
      ],
      "id": "bf14be48",
      "execution_count": 16,
      "outputs": [
        {
          "output_type": "execute_result",
          "data": {
            "text/plain": [
              "{'age': 25,\n",
              " 'city': {'country': 'NP', 'currency': 'NP', 'line1': 'ABC Street.'},\n",
              " 'gender': 'male',\n",
              " 'name': 'John'}"
            ]
          },
          "metadata": {
            "tags": []
          },
          "execution_count": 16
        }
      ]
    },
    {
      "cell_type": "code",
      "metadata": {
        "colab": {
          "base_uri": "https://localhost:8080/"
        },
        "id": "1e439a12",
        "outputId": "99417348-a2a4-4086-e582-f6bb23765c51"
      },
      "source": [
        "a['city']"
      ],
      "id": "1e439a12",
      "execution_count": 17,
      "outputs": [
        {
          "output_type": "execute_result",
          "data": {
            "text/plain": [
              "{'country': 'NP', 'currency': 'NP', 'line1': 'ABC Street.'}"
            ]
          },
          "metadata": {
            "tags": []
          },
          "execution_count": 17
        }
      ]
    },
    {
      "cell_type": "code",
      "metadata": {
        "colab": {
          "base_uri": "https://localhost:8080/",
          "height": 35
        },
        "id": "6e061990",
        "outputId": "4da103a1-c6c8-46f9-b8f8-6b804dec13f4"
      },
      "source": [
        "a['city']['line1']"
      ],
      "id": "6e061990",
      "execution_count": 18,
      "outputs": [
        {
          "output_type": "execute_result",
          "data": {
            "application/vnd.google.colaboratory.intrinsic+json": {
              "type": "string"
            },
            "text/plain": [
              "'ABC Street.'"
            ]
          },
          "metadata": {
            "tags": []
          },
          "execution_count": 18
        }
      ]
    }
  ]
}