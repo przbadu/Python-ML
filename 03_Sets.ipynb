{
  "nbformat": 4,
  "nbformat_minor": 5,
  "metadata": {
    "kernelspec": {
      "display_name": "Python 3",
      "language": "python",
      "name": "python3"
    },
    "language_info": {
      "codemirror_mode": {
        "name": "ipython",
        "version": 3
      },
      "file_extension": ".py",
      "mimetype": "text/x-python",
      "name": "python",
      "nbconvert_exporter": "python",
      "pygments_lexer": "ipython3",
      "version": "3.8.8"
    },
    "colab": {
      "name": "03. Sets.ipynb",
      "provenance": [],
      "toc_visible": true,
      "include_colab_link": true
    }
  },
  "cells": [
    {
      "cell_type": "markdown",
      "metadata": {
        "id": "view-in-github",
        "colab_type": "text"
      },
      "source": [
        "<a href=\"https://colab.research.google.com/github/przbadu/Python-ML/blob/main/03_Sets.ipynb\" target=\"_parent\"><img src=\"https://colab.research.google.com/assets/colab-badge.svg\" alt=\"Open In Colab\"/></a>"
      ]
    },
    {
      "cell_type": "markdown",
      "metadata": {
        "id": "37b9f625"
      },
      "source": [
        "# Sets"
      ],
      "id": "37b9f625"
    },
    {
      "cell_type": "markdown",
      "metadata": {
        "id": "d1ac0afd"
      },
      "source": [
        "A `Set` is an unordered collection datatype that is iterable, mutable, and\n",
        "has no duplicate elements.\n",
        "Python's set class represents the mathematical notion of a set.\n",
        "This is based on a data structure known as a hash table (a.k.a hash)"
      ],
      "id": "d1ac0afd"
    },
    {
      "cell_type": "markdown",
      "metadata": {
        "id": "f6a3419c"
      },
      "source": [
        "## Defining an empty set"
      ],
      "id": "f6a3419c"
    },
    {
      "cell_type": "code",
      "metadata": {
        "id": "0a3b7b10"
      },
      "source": [
        "a = set()"
      ],
      "id": "0a3b7b10",
      "execution_count": 1,
      "outputs": []
    },
    {
      "cell_type": "code",
      "metadata": {
        "colab": {
          "base_uri": "https://localhost:8080/"
        },
        "id": "0a9500ae",
        "outputId": "c7ce0ac0-5c53-4e12-a1bb-b5a0db3cb619"
      },
      "source": [
        "print(a)"
      ],
      "id": "0a9500ae",
      "execution_count": 2,
      "outputs": [
        {
          "output_type": "stream",
          "text": [
            "set()\n"
          ],
          "name": "stdout"
        }
      ]
    },
    {
      "cell_type": "code",
      "metadata": {
        "colab": {
          "base_uri": "https://localhost:8080/"
        },
        "id": "228eec84",
        "outputId": "73e74b01-c11e-4441-cfcd-057e519cd256"
      },
      "source": [
        "print(type(a))"
      ],
      "id": "228eec84",
      "execution_count": 3,
      "outputs": [
        {
          "output_type": "stream",
          "text": [
            "<class 'set'>\n"
          ],
          "name": "stdout"
        }
      ]
    },
    {
      "cell_type": "code",
      "metadata": {
        "id": "c40dc3d5"
      },
      "source": [
        "a = {1,32,3,4,5}"
      ],
      "id": "c40dc3d5",
      "execution_count": 4,
      "outputs": []
    },
    {
      "cell_type": "code",
      "metadata": {
        "colab": {
          "base_uri": "https://localhost:8080/"
        },
        "id": "c440778f",
        "outputId": "e1abc5f4-edba-4d7f-bb6d-50869c2a30d0"
      },
      "source": [
        "a"
      ],
      "id": "c440778f",
      "execution_count": 5,
      "outputs": [
        {
          "output_type": "execute_result",
          "data": {
            "text/plain": [
              "{1, 3, 4, 5, 32}"
            ]
          },
          "metadata": {
            "tags": []
          },
          "execution_count": 5
        }
      ]
    },
    {
      "cell_type": "code",
      "metadata": {
        "id": "a43a1def"
      },
      "source": [
        "dup = {1,1,2,2} # duplicates not allowed"
      ],
      "id": "a43a1def",
      "execution_count": 6,
      "outputs": []
    },
    {
      "cell_type": "code",
      "metadata": {
        "colab": {
          "base_uri": "https://localhost:8080/"
        },
        "id": "77e3289f",
        "outputId": "f1e573d9-bb5c-402b-dfa6-4e2ea29f76e7"
      },
      "source": [
        "dup"
      ],
      "id": "77e3289f",
      "execution_count": 7,
      "outputs": [
        {
          "output_type": "execute_result",
          "data": {
            "text/plain": [
              "{1, 2}"
            ]
          },
          "metadata": {
            "tags": []
          },
          "execution_count": 7
        }
      ]
    },
    {
      "cell_type": "code",
      "metadata": {
        "id": "7f7376a4"
      },
      "source": [
        "a.add('Hulk')"
      ],
      "id": "7f7376a4",
      "execution_count": 8,
      "outputs": []
    },
    {
      "cell_type": "code",
      "metadata": {
        "colab": {
          "base_uri": "https://localhost:8080/"
        },
        "id": "6e1fa4f6",
        "outputId": "fdcd3539-3c75-4749-9b85-47aca309bed6"
      },
      "source": [
        "a"
      ],
      "id": "6e1fa4f6",
      "execution_count": 9,
      "outputs": [
        {
          "output_type": "execute_result",
          "data": {
            "text/plain": [
              "{1, 3, 32, 4, 5, 'Hulk'}"
            ]
          },
          "metadata": {
            "tags": []
          },
          "execution_count": 9
        }
      ]
    },
    {
      "cell_type": "code",
      "metadata": {
        "id": "42e0ff37"
      },
      "source": [
        "a1 = {'Avengers', 'IronMan', 'Hitman'}\n",
        "a2 = {'Avengers', 'IronMan', 'Hitman', 'Hulk2'}"
      ],
      "id": "42e0ff37",
      "execution_count": 10,
      "outputs": []
    },
    {
      "cell_type": "code",
      "metadata": {
        "colab": {
          "base_uri": "https://localhost:8080/"
        },
        "id": "74f571fd",
        "outputId": "fe08b894-7ef7-4147-eaa0-58f5a9857ca1"
      },
      "source": [
        "a1"
      ],
      "id": "74f571fd",
      "execution_count": 11,
      "outputs": [
        {
          "output_type": "execute_result",
          "data": {
            "text/plain": [
              "{'Avengers', 'Hitman', 'IronMan'}"
            ]
          },
          "metadata": {
            "tags": []
          },
          "execution_count": 11
        }
      ]
    },
    {
      "cell_type": "code",
      "metadata": {
        "colab": {
          "base_uri": "https://localhost:8080/"
        },
        "id": "4114f801",
        "outputId": "d4cc0de4-c332-4a3b-b14b-8b47e41f7a74"
      },
      "source": [
        "a2"
      ],
      "id": "4114f801",
      "execution_count": 12,
      "outputs": [
        {
          "output_type": "execute_result",
          "data": {
            "text/plain": [
              "{'Avengers', 'Hitman', 'Hulk2', 'IronMan'}"
            ]
          },
          "metadata": {
            "tags": []
          },
          "execution_count": 12
        }
      ]
    },
    {
      "cell_type": "code",
      "metadata": {
        "colab": {
          "base_uri": "https://localhost:8080/"
        },
        "id": "09fe44de",
        "outputId": "f85a6019-c062-47ae-b103-adbaf637801c"
      },
      "source": [
        "a2.difference(a1)"
      ],
      "id": "09fe44de",
      "execution_count": 13,
      "outputs": [
        {
          "output_type": "execute_result",
          "data": {
            "text/plain": [
              "{'Hulk2'}"
            ]
          },
          "metadata": {
            "tags": []
          },
          "execution_count": 13
        }
      ]
    },
    {
      "cell_type": "code",
      "metadata": {
        "colab": {
          "base_uri": "https://localhost:8080/"
        },
        "id": "bc9283a1",
        "outputId": "e1199e9c-78b6-4602-9887-dd1d75e561fa"
      },
      "source": [
        "a2, a1"
      ],
      "id": "bc9283a1",
      "execution_count": 14,
      "outputs": [
        {
          "output_type": "execute_result",
          "data": {
            "text/plain": [
              "({'Avengers', 'Hitman', 'Hulk2', 'IronMan'}, {'Avengers', 'Hitman', 'IronMan'})"
            ]
          },
          "metadata": {
            "tags": []
          },
          "execution_count": 14
        }
      ]
    },
    {
      "cell_type": "code",
      "metadata": {
        "id": "0a927079"
      },
      "source": [
        "a2.intersection_update(a1)"
      ],
      "id": "0a927079",
      "execution_count": 15,
      "outputs": []
    },
    {
      "cell_type": "code",
      "metadata": {
        "colab": {
          "base_uri": "https://localhost:8080/"
        },
        "id": "bc65d41d",
        "outputId": "8b570110-9135-4f31-d29d-e04502dfbbb4"
      },
      "source": [
        "a2"
      ],
      "id": "bc65d41d",
      "execution_count": 16,
      "outputs": [
        {
          "output_type": "execute_result",
          "data": {
            "text/plain": [
              "{'Avengers', 'Hitman', 'IronMan'}"
            ]
          },
          "metadata": {
            "tags": []
          },
          "execution_count": 16
        }
      ]
    }
  ]
}