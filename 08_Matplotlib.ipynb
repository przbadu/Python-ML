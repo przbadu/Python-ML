{
  "nbformat": 4,
  "nbformat_minor": 0,
  "metadata": {
    "colab": {
      "name": "08-Matplotlib.ipynb",
      "provenance": [],
      "collapsed_sections": [],
      "authorship_tag": "ABX9TyO4VUsU34tCh7aTfVmWDtSi",
      "include_colab_link": true
    },
    "kernelspec": {
      "name": "python3",
      "display_name": "Python 3"
    },
    "language_info": {
      "name": "python"
    }
  },
  "cells": [
    {
      "cell_type": "markdown",
      "metadata": {
        "id": "view-in-github",
        "colab_type": "text"
      },
      "source": [
        "<a href=\"https://colab.research.google.com/github/przbadu/Python-ML/blob/main/08_Matplotlib.ipynb\" target=\"_parent\"><img src=\"https://colab.research.google.com/assets/colab-badge.svg\" alt=\"Open In Colab\"/></a>"
      ]
    },
    {
      "cell_type": "markdown",
      "metadata": {
        "id": "9Xnay0gnIprz"
      },
      "source": [
        "# MatplotLib\n",
        "\n",
        "Matplotlib is a plotting library for the Python programming language and its numerical mathematics extension NumPy. It provides an object-oriented API for embedding plots into applications using general purpose GUI toolkits like Tkinter, wxPython, Qt, or GTK+\n",
        "\n",
        "Some of the major Pros of matplotlib are:\n",
        "\n",
        "- Generally easy to get started for simple plots\n",
        "- Support for custom labels and texts\n",
        "- Great control of every element in figure\n",
        "- High-quality output in many formats\n",
        "- Very customizable in general"
      ]
    },
    {
      "cell_type": "code",
      "metadata": {
        "id": "Cx-wArT3JmEY"
      },
      "source": [
        "import matplotlib.pyplot as plt"
      ],
      "execution_count": 9,
      "outputs": []
    },
    {
      "cell_type": "code",
      "metadata": {
        "id": "4byRqdVAJqMQ"
      },
      "source": [
        "import numpy as np"
      ],
      "execution_count": 10,
      "outputs": []
    },
    {
      "cell_type": "markdown",
      "metadata": {
        "id": "57fFUoXnKW2A"
      },
      "source": [
        "## Simple Example"
      ]
    },
    {
      "cell_type": "code",
      "metadata": {
        "id": "8cjplTAFKBdO"
      },
      "source": [
        "# simple examples\n",
        "x = np.arange(0, 10)\n",
        "y = np.arange(11, 21)"
      ],
      "execution_count": 11,
      "outputs": []
    },
    {
      "cell_type": "code",
      "metadata": {
        "id": "qt-RAOwlKJnX"
      },
      "source": [
        "a = np.arange(40, 50)\n",
        "b = np.arange(50, 60)"
      ],
      "execution_count": 12,
      "outputs": []
    },
    {
      "cell_type": "markdown",
      "metadata": {
        "id": "8TdHRDy3KT5n"
      },
      "source": [
        "## Plotting using matplotlib"
      ]
    },
    {
      "cell_type": "markdown",
      "metadata": {
        "id": "eXvO3rAGKhoW"
      },
      "source": [
        "### Scatter"
      ]
    },
    {
      "cell_type": "code",
      "metadata": {
        "colab": {
          "base_uri": "https://localhost:8080/",
          "height": 313
        },
        "id": "YI2tDnGPKkQB",
        "outputId": "abd6fbc0-1eb9-45a9-e269-c36a968a9b74"
      },
      "source": [
        "plt.scatter(x, y, c='g')\n",
        "plt.xlabel('X axis')\n",
        "plt.ylabel('Y axis')\n",
        "plt.title('Graph in 2D')\n",
        "# plt.savefig('graph-in-2d.png)"
      ],
      "execution_count": 14,
      "outputs": [
        {
          "output_type": "execute_result",
          "data": {
            "text/plain": [
              "Text(0.5, 1.0, 'Graph in 2D')"
            ]
          },
          "metadata": {
            "tags": []
          },
          "execution_count": 14
        },
        {
          "output_type": "display_data",
          "data": {
            "image/png": "[encoded data removed]",
            "text/plain": [
              "<Figure size 432x288 with 1 Axes>"
            ]
          },
          "metadata": {
            "tags": [],
            "needs_background": "light"
          }
        }
      ]
    },
    {
      "cell_type": "markdown",
      "metadata": {
        "id": "AZd3NdldKxiW"
      },
      "source": [
        "### Plot"
      ]
    },
    {
      "cell_type": "code",
      "metadata": {
        "colab": {
          "base_uri": "https://localhost:8080/",
          "height": 283
        },
        "id": "WeFr9mXYLR8C",
        "outputId": "7165c029-871a-4039-c5aa-941658517f60"
      },
      "source": [
        "plt.plot(a, b, 'r*--', linestyle='dashed', linewidth=2, markersize=12)"
      ],
      "execution_count": 16,
      "outputs": [
        {
          "output_type": "execute_result",
          "data": {
            "text/plain": [
              "[<matplotlib.lines.Line2D at 0x7f42cee9db90>]"
            ]
          },
          "metadata": {
            "tags": []
          },
          "execution_count": 16
        },
        {
          "output_type": "display_data",
          "data": {
            "image/png": "[encoded data removed]",
            "text/plain": [
              "<Figure size 432x288 with 1 Axes>"
            ]
          },
          "metadata": {
            "tags": [],
            "needs_background": "light"
          }
        }
      ]
    },
    {
      "cell_type": "code",
      "metadata": {
        "colab": {
          "base_uri": "https://localhost:8080/",
          "height": 313
        },
        "id": "0FTKxViWLd5v",
        "outputId": "58dedcc6-6ad2-411e-8158-312d7cb0511f"
      },
      "source": [
        "plt.plot(x, y)\n",
        "plt.xlabel('X axis')\n",
        "plt.ylabel('Y axis')\n",
        "plt.title('2D Diagram')"
      ],
      "execution_count": 18,
      "outputs": [
        {
          "output_type": "execute_result",
          "data": {
            "text/plain": [
              "Text(0.5, 1.0, '2D Diagram')"
            ]
          },
          "metadata": {
            "tags": []
          },
          "execution_count": 18
        },
        {
          "output_type": "display_data",
          "data": {
            "image/png": "[encoded data removed]",
            "text/plain": [
              "<Figure size 432x288 with 1 Axes>"
            ]
          },
          "metadata": {
            "tags": [],
            "needs_background": "light"
          }
        }
      ]
    },
    {
      "cell_type": "markdown",
      "metadata": {
        "id": "miKFss78Lr4-"
      },
      "source": [
        "### Subplots"
      ]
    },
    {
      "cell_type": "code",
      "metadata": {
        "colab": {
          "base_uri": "https://localhost:8080/",
          "height": 283
        },
        "id": "t4E1tkh2NobZ",
        "outputId": "05bb2b15-685d-4e8c-de4d-80ae2ba300ab"
      },
      "source": [
        "# plot in different positions\n",
        "\n",
        "# first plot\n",
        "plt.subplot(2, 2, 1)\n",
        "plt.plot(x, y, 'r')\n",
        "\n",
        "# second plot\n",
        "plt.subplot(2, 2, 2)\n",
        "plt.plot(x, y, 'g')\n",
        "\n",
        "# third plot\n",
        "plt.subplot(2, 2, 3)\n",
        "plt.plot(x, y, 'b')"
      ],
      "execution_count": 20,
      "outputs": [
        {
          "output_type": "execute_result",
          "data": {
            "text/plain": [
              "[<matplotlib.lines.Line2D at 0x7f42ceb94dd0>]"
            ]
          },
          "metadata": {
            "tags": []
          },
          "execution_count": 20
        },
        {
          "output_type": "display_data",
          "data": {
            "image/png": "[encoded data removed]",
            "text/plain": [
              "<Figure size 432x288 with 3 Axes>"
            ]
          },
          "metadata": {
            "tags": [],
            "needs_background": "light"
          }
        }
      ]
    },
    {
      "cell_type": "code",
      "metadata": {
        "colab": {
          "base_uri": "https://localhost:8080/",
          "height": 313
        },
        "id": "B8ltkMuzN0F0",
        "outputId": "578854b8-f141-4e71-ff8f-1806ad1e3f2a"
      },
      "source": [
        "x = np.arange(1, 11)\n",
        "y = 3 * x + 5\n",
        "\n",
        "plt.title('Matplotlib demo')\n",
        "plt.xlabel('x axis')\n",
        "plt.ylabel('y axis')\n",
        "plt.plot(x, y)"
      ],
      "execution_count": 22,
      "outputs": [
        {
          "output_type": "execute_result",
          "data": {
            "text/plain": [
              "[<matplotlib.lines.Line2D at 0x7f42cebafb50>]"
            ]
          },
          "metadata": {
            "tags": []
          },
          "execution_count": 22
        },
        {
          "output_type": "display_data",
          "data": {
            "image/png": "[encoded data removed]",
            "text/plain": [
              "<Figure size 432x288 with 1 Axes>"
            ]
          },
          "metadata": {
            "tags": [],
            "needs_background": "light"
          }
        }
      ]
    },
    {
      "cell_type": "code",
      "metadata": {
        "colab": {
          "base_uri": "https://localhost:8080/"
        },
        "id": "HQfC454DOUCc",
        "outputId": "f37989b4-d148-484b-ee2a-5220f25a62a4"
      },
      "source": [
        "np.pi"
      ],
      "execution_count": 23,
      "outputs": [
        {
          "output_type": "execute_result",
          "data": {
            "text/plain": [
              "3.141592653589793"
            ]
          },
          "metadata": {
            "tags": []
          },
          "execution_count": 23
        }
      ]
    },
    {
      "cell_type": "code",
      "metadata": {
        "id": "hPwAvEswOYfE"
      },
      "source": [
        "# Compute the x and y coordinates for points on a sine curve"
      ],
      "execution_count": 24,
      "outputs": []
    },
    {
      "cell_type": "code",
      "metadata": {
        "colab": {
          "base_uri": "https://localhost:8080/",
          "height": 299
        },
        "id": "9CVad3l7Od3s",
        "outputId": "15f7ee01-158e-49ab-ea38-b989d2fb63cc"
      },
      "source": [
        "x = np.arange(0, 4 * np.pi, 0.1)\n",
        "y = np.sin(x)\n",
        "plt.title('Sine wave form')\n",
        "\n",
        "# plot the points using matplotlib\n",
        "plt.plot(x, y)"
      ],
      "execution_count": 25,
      "outputs": [
        {
          "output_type": "execute_result",
          "data": {
            "text/plain": [
              "[<matplotlib.lines.Line2D at 0x7f42cea6ce50>]"
            ]
          },
          "metadata": {
            "tags": []
          },
          "execution_count": 25
        },
        {
          "output_type": "display_data",
          "data": {
            "image/png": "[encoded data removed]",
            "text/plain": [
              "<Figure size 432x288 with 1 Axes>"
            ]
          },
          "metadata": {
            "tags": [],
            "needs_background": "light"
          }
        }
      ]
    },
    {
      "cell_type": "code",
      "metadata": {
        "colab": {
          "base_uri": "https://localhost:8080/",
          "height": 299
        },
        "id": "2iSeRDgOOsLb",
        "outputId": "1932769e-fb9f-4bed-acc8-5330c8592f0f"
      },
      "source": [
        "# subplot()\n",
        "\n",
        "# compute the x and y coordinates for points on sine and cosine curves\n",
        "x = np.arange(0, 5 * np.pi, 0.1)\n",
        "y_sin = np.sin(x)\n",
        "y_cos = np.cos(x)\n",
        "\n",
        "# set up a subplot grid that has height 2 and width 1,\n",
        "# and set the first such subplot as active.\n",
        "plt.subplot(2, 1, 1)\n",
        "\n",
        "# Make the first plot\n",
        "plt.plot(x, y_sin)\n",
        "plt.title('Sine')\n",
        "\n",
        "# set the second subplot as active, and make the second plot.\n",
        "plt.subplot(2, 1, 2)\n",
        "plt.plot(x, y_cos, 'g--')\n",
        "\n",
        "plt.title('Cosine')"
      ],
      "execution_count": 29,
      "outputs": [
        {
          "output_type": "execute_result",
          "data": {
            "text/plain": [
              "Text(0.5, 1.0, 'Cosine')"
            ]
          },
          "metadata": {
            "tags": []
          },
          "execution_count": 29
        },
        {
          "output_type": "display_data",
          "data": {
            "image/png": "[encoded data removed]",
            "text/plain": [
              "<Figure size 432x288 with 2 Axes>"
            ]
          },
          "metadata": {
            "tags": [],
            "needs_background": "light"
          }
        }
      ]
    },
    {
      "cell_type": "markdown",
      "metadata": {
        "id": "XQJSz-VzPUiz"
      },
      "source": [
        "### Barplot"
      ]
    },
    {
      "cell_type": "code",
      "metadata": {
        "colab": {
          "base_uri": "https://localhost:8080/",
          "height": 313
        },
        "id": "SP8J2sX0Pnm2",
        "outputId": "f8bace82-301b-48f8-cdb4-694aebf0418a"
      },
      "source": [
        "x = [2, 8, 10]\n",
        "y = [11, 16, 9]\n",
        "\n",
        "x2 = [3, 9, 11]\n",
        "y2 = [6, 15, 7]\n",
        "\n",
        "plt.bar(x, y)\n",
        "plt.bar(x2, y2, color = 'g')\n",
        "plt.title('Bar graph')\n",
        "plt.ylabel('Y axis')\n",
        "plt.xlabel('X axis')"
      ],
      "execution_count": 30,
      "outputs": [
        {
          "output_type": "execute_result",
          "data": {
            "text/plain": [
              "Text(0.5, 0, 'X axis')"
            ]
          },
          "metadata": {
            "tags": []
          },
          "execution_count": 30
        },
        {
          "output_type": "display_data",
          "data": {
            "image/png": "[encoded data removed]",
            "text/plain": [
              "<Figure size 432x288 with 1 Axes>"
            ]
          },
          "metadata": {
            "tags": [],
            "needs_background": "light"
          }
        }
      ]
    },
    {
      "cell_type": "markdown",
      "metadata": {
        "id": "LMLA7iTJP4sz"
      },
      "source": [
        "### Histograms"
      ]
    },
    {
      "cell_type": "code",
      "metadata": {
        "colab": {
          "base_uri": "https://localhost:8080/",
          "height": 299
        },
        "id": "Gs9Cj18xQAdO",
        "outputId": "d61c997e-4ce5-4328-c2a8-37c1471ec7c7"
      },
      "source": [
        "a = np.array([22, 87, 10, 5, 54, 56, 73, 10, 22, 43, 54, 40])\n",
        "plt.hist(a)\n",
        "plt.title('histogram')"
      ],
      "execution_count": 31,
      "outputs": [
        {
          "output_type": "execute_result",
          "data": {
            "text/plain": [
              "Text(0.5, 1.0, 'histogram')"
            ]
          },
          "metadata": {
            "tags": []
          },
          "execution_count": 31
        },
        {
          "output_type": "display_data",
          "data": {
            "image/png": "[encoded data removed]",
            "text/plain": [
              "<Figure size 432x288 with 1 Axes>"
            ]
          },
          "metadata": {
            "tags": [],
            "needs_background": "light"
          }
        }
      ]
    },
    {
      "cell_type": "markdown",
      "metadata": {
        "id": "VXrNivmZQSgj"
      },
      "source": [
        "### Boxplot"
      ]
    },
    {
      "cell_type": "code",
      "metadata": {
        "colab": {
          "base_uri": "https://localhost:8080/",
          "height": 669
        },
        "id": "YYrf6X0HQkrC",
        "outputId": "e18f472e-b043-431e-c6fd-d57e69ab905d"
      },
      "source": [
        "data = [np.random.normal(0, std, 100) for std in range(1, 4)]\n",
        "\n",
        "# rectangular box plot\n",
        "plt.boxplot(data, vert=True, patch_artist=True)"
      ],
      "execution_count": 32,
      "outputs": [
        {
          "output_type": "execute_result",
          "data": {
            "text/plain": [
              "{'boxes': [<matplotlib.patches.PathPatch at 0x7f42ce607c50>,\n",
              "  <matplotlib.patches.PathPatch at 0x7f42ce592290>,\n",
              "  <matplotlib.patches.PathPatch at 0x7f42ce59d190>],\n",
              " 'caps': [<matplotlib.lines.Line2D at 0x7f42ce5b0390>,\n",
              "  <matplotlib.lines.Line2D at 0x7f42ce5b0690>,\n",
              "  <matplotlib.lines.Line2D at 0x7f42ce5af4d0>,\n",
              "  <matplotlib.lines.Line2D at 0x7f42ce5af950>,\n",
              "  <matplotlib.lines.Line2D at 0x7f42ce598f50>,\n",
              "  <matplotlib.lines.Line2D at 0x7f42ce581590>],\n",
              " 'fliers': [<matplotlib.lines.Line2D at 0x7f42ce592250>,\n",
              "  <matplotlib.lines.Line2D at 0x7f42ce59db90>,\n",
              "  <matplotlib.lines.Line2D at 0x7f42ce589050>],\n",
              " 'means': [],\n",
              " 'medians': [<matplotlib.lines.Line2D at 0x7f42ce5b0a10>,\n",
              "  <matplotlib.lines.Line2D at 0x7f42ce59d550>,\n",
              "  <matplotlib.lines.Line2D at 0x7f42ce581ad0>],\n",
              " 'whiskers': [<matplotlib.lines.Line2D at 0x7f42ce6219d0>,\n",
              "  <matplotlib.lines.Line2D at 0x7f42ce621e10>,\n",
              "  <matplotlib.lines.Line2D at 0x7f42ce592a90>,\n",
              "  <matplotlib.lines.Line2D at 0x7f42ce5af310>,\n",
              "  <matplotlib.lines.Line2D at 0x7f42ce598290>,\n",
              "  <matplotlib.lines.Line2D at 0x7f42ce598d10>]}"
            ]
          },
          "metadata": {
            "tags": []
          },
          "execution_count": 32
        },
        {
          "output_type": "display_data",
          "data": {
            "image/png": "[encoded data removed]",
            "text/plain": [
              "<Figure size 432x288 with 1 Axes>"
            ]
          },
          "metadata": {
            "tags": [],
            "needs_background": "light"
          }
        }
      ]
    },
    {
      "cell_type": "code",
      "metadata": {
        "colab": {
          "base_uri": "https://localhost:8080/"
        },
        "id": "1eo5t1b1Qu6r",
        "outputId": "162a1dd5-502c-485b-b34e-2ea44f794098"
      },
      "source": [
        "data"
      ],
      "execution_count": 33,
      "outputs": [
        {
          "output_type": "execute_result",
          "data": {
            "text/plain": [
              "[array([ 8.56377355e-01, -9.41263880e-01, -1.01809951e+00, -2.69001815e-01,\n",
              "        -1.10906836e+00, -1.16918911e+00, -1.69030597e-03, -1.13089830e+00,\n",
              "         5.95970083e-01, -8.09234305e-02,  1.24181483e-01, -7.31666294e-01,\n",
              "         1.58017234e+00, -4.92642912e-01, -1.16490864e+00,  4.11669634e-01,\n",
              "        -2.57582733e-01, -3.56386379e-01, -5.95802210e-01, -7.77507163e-01,\n",
              "        -4.43430047e-01, -6.99631878e-01, -3.92713141e-01,  1.04313455e+00,\n",
              "        -6.30542108e-01, -6.15955910e-01,  5.08572526e-01, -2.94150170e+00,\n",
              "        -5.20562673e-01, -2.74567325e+00,  1.05718585e-01, -1.50027199e-02,\n",
              "         1.38692221e-02,  3.81773157e-01,  3.81334530e-01, -1.74693422e+00,\n",
              "         5.74889154e-01,  5.44984267e-01, -4.11033932e-01, -9.89106598e-02,\n",
              "         1.37944557e+00, -9.32496956e-01, -1.60344408e+00,  4.52779062e-01,\n",
              "        -2.11312370e+00,  1.16867518e+00, -1.49470753e+00, -8.96771101e-01,\n",
              "        -1.51584053e-01,  6.08022520e-01, -1.19024574e+00, -1.63297385e-03,\n",
              "         3.62853026e+00,  9.18023786e-01, -6.98077507e-01,  9.89818087e-01,\n",
              "         4.90733569e-01,  8.67251989e-02, -2.36319631e-01,  1.46769652e+00,\n",
              "         8.83706221e-01, -1.57038260e+00,  1.09427308e+00, -1.32030439e-01,\n",
              "         5.39008990e-01,  1.14039607e+00,  2.19773537e+00,  9.67434003e-01,\n",
              "        -5.59908684e-01,  5.46824174e-01, -7.37699103e-02,  6.98615290e-01,\n",
              "        -2.52930161e-01, -1.32919331e-01,  1.20915823e+00, -2.59709601e-01,\n",
              "         5.71991390e-01, -5.29136470e-01,  1.55408429e-01, -8.42617756e-01,\n",
              "        -6.74968803e-01,  1.04080375e+00,  1.86978872e+00,  1.10195094e+00,\n",
              "        -3.22846524e-01,  1.17065109e+00, -9.09960865e-01,  3.62699034e-01,\n",
              "        -7.89407021e-02,  2.67434443e+00,  2.05873734e+00, -1.33645805e-01,\n",
              "         1.33745516e+00, -8.29821775e-01, -6.25055483e-01, -6.82047271e-01,\n",
              "        -6.20577436e-01,  1.22445224e-01,  8.85204060e-02,  1.46336399e-02]),\n",
              " array([-1.38460028,  2.9518572 , -4.84233713, -0.24515913, -0.96428553,\n",
              "         3.03555107,  2.44066431,  3.27091516,  0.47862892,  1.08564941,\n",
              "         1.17199251,  0.0970364 ,  2.37927866, -1.32649921,  1.35236663,\n",
              "        -0.2795808 , -0.75404935, -0.85874423, -0.67509233,  2.12453058,\n",
              "        -0.51612363, -1.64595354,  0.44578606, -4.21515775,  1.23790738,\n",
              "         0.25202927, -1.9114842 , -0.05639141,  2.35141784,  4.62901543,\n",
              "         0.9001282 , -2.21143423,  2.58543805, -0.50298987, -1.64157442,\n",
              "         1.09339286, -2.34950891,  0.03170827, -0.3357742 ,  0.38112417,\n",
              "        -0.92792573,  0.76695955,  1.62249948,  1.6983774 , -0.07239682,\n",
              "        -1.109703  ,  1.24357771, -2.55492515,  0.64512945, -0.7033152 ,\n",
              "        -2.03716535, -1.53284813, -2.32345193, -1.32055443, -1.99527791,\n",
              "        -2.46935973,  0.85445695, -0.66163278, -0.8622409 ,  1.28885854,\n",
              "        -0.98292366, -1.20994438,  0.47505038, -0.91576693,  1.55958309,\n",
              "        -0.18260676,  2.20101276,  0.17097486, -2.67187636, -1.59766699,\n",
              "        -3.61482207, -1.65738713,  0.80900837, -3.00012403, -0.44101338,\n",
              "         0.26889161, -0.78301815,  1.76080586,  5.13186015, -3.43485704,\n",
              "        -1.40152225,  1.03318503,  3.49086133, -1.03901479, -0.44205026,\n",
              "         0.54778223, -1.46030577,  3.03372211,  0.19419062, -2.75984281,\n",
              "        -0.51910604,  1.59185554, -2.36498059, -2.94912482,  1.6324415 ,\n",
              "        -1.86026127, -0.55505325, -1.57342923, -2.36725937, -0.07237372]),\n",
              " array([-1.37750904, -0.43231575, -1.59421042, -0.0126799 ,  0.41231539,\n",
              "         0.36475323, -4.51933257, -5.10401733, -0.89717668, -6.03059555,\n",
              "        -0.39913409, -1.1158313 , -4.54464504, -0.45373057,  7.4309238 ,\n",
              "         0.84810873,  1.20374683, -3.54019859,  1.612074  , -2.70976138,\n",
              "         1.25569134, -4.92170316, -2.15107911,  1.76325871, -1.38394318,\n",
              "         1.57647664,  2.50078505, -5.07952763,  1.6456037 ,  1.03452658,\n",
              "         2.23831679,  3.2183429 , -4.64178841, -2.7517695 ,  2.54812631,\n",
              "         6.03800868, -1.04953493, -1.47457592, -4.35493961, -0.49476934,\n",
              "         1.0081706 , -4.07835416, -1.62424145, -2.16324669,  0.61179164,\n",
              "        -0.05049019,  1.94031483, -1.15258885, -2.03545551, -5.46809697,\n",
              "        -0.75700886,  2.30617794,  1.29022998,  2.1694172 ,  1.89545038,\n",
              "         5.29399582,  1.19085795, -2.41589247, -3.96013387, -4.04208287,\n",
              "        -5.03814969, -3.77169278,  5.00220362,  0.10027055,  1.25296648,\n",
              "        -0.70450058, -4.11491662,  0.73585483,  1.77176678, -2.7765597 ,\n",
              "        -0.71946609, -0.31126722,  2.44532763, -5.52699507, -3.45953918,\n",
              "        -4.4853055 , -1.22890579,  2.64279151, -0.54591888,  3.43602988,\n",
              "         0.82312952, -1.90958006,  1.1721397 , -2.28929789, -0.28011182,\n",
              "         1.53792208, -2.82842299, -2.2563193 ,  2.37939659, -0.51664964,\n",
              "        -8.77510569, -4.48169012,  2.57184407, -2.57427805, -0.18162696,\n",
              "         8.93076919,  2.43188122, -3.72739846, -0.28083453, -0.37328537])]"
            ]
          },
          "metadata": {
            "tags": []
          },
          "execution_count": 33
        }
      ]
    },
    {
      "cell_type": "markdown",
      "metadata": {
        "id": "0BxGkTnsQyID"
      },
      "source": [
        "### Piechart"
      ]
    },
    {
      "cell_type": "code",
      "metadata": {
        "colab": {
          "base_uri": "https://localhost:8080/",
          "height": 321
        },
        "id": "TRFTDq2URGvW",
        "outputId": "8c9eabe2-7fc9-4b08-aac0-d53946afba1f"
      },
      "source": [
        "# Data to plot\n",
        "labels = 'Python', 'C++', 'Ruby', 'Java'\n",
        "sizes = [215, 130, 245, 210]\n",
        "colors = ['gold', 'yellowgreen', 'lightcoral', 'lightskyblue']\n",
        "explode = (0, 0, 0.1, 0) # explode 1st slide\n",
        "\n",
        "# Plot\n",
        "plt.pie(sizes, explode=explode, labels=labels, colors=colors, autopct = '%1.1f%%', shadow=True)\n",
        "\n",
        "plt.axis('equal')"
      ],
      "execution_count": 39,
      "outputs": [
        {
          "output_type": "execute_result",
          "data": {
            "text/plain": [
              "(-1.1976234757542465,\n",
              " 1.1046487369406783,\n",
              " -1.1503406934694331,\n",
              " 1.1125267633874232)"
            ]
          },
          "metadata": {
            "tags": []
          },
          "execution_count": 39
        },
        {
          "output_type": "display_data",
          "data": {
            "image/png": "[encoded data removed]",
            "text/plain": [
              "<Figure size 432x288 with 1 Axes>"
            ]
          },
          "metadata": {
            "tags": []
          }
        }
      ]
    },
    {
      "cell_type": "code",
      "metadata": {
        "id": "YC9SfsFqR2Wi"
      },
      "source": [
        ""
      ],
      "execution_count": null,
      "outputs": []
    }
  ]
}